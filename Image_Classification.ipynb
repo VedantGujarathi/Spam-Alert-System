{
 "cells": [
  {
   "cell_type": "code",
   "execution_count": 4,
   "id": "18311c77",
   "metadata": {},
   "outputs": [
    {
     "name": "stdout",
     "output_type": "stream",
     "text": [
      "Found 191 images belonging to 3 classes.\n",
      "Found 61 images belonging to 2 classes.\n",
      "Epoch 1/10\n",
      "6/6 [==============================] - 7s 634ms/step - loss: -1.5902 - accuracy: 0.7016 - val_loss: 48.8167 - val_accuracy: 0.0492\n",
      "Epoch 2/10\n",
      "6/6 [==============================] - 3s 458ms/step - loss: -38.4357 - accuracy: 0.8482 - val_loss: 512.9125 - val_accuracy: 0.0492\n",
      "Epoch 3/10\n",
      "6/6 [==============================] - 3s 456ms/step - loss: -240.5853 - accuracy: 0.8482 - val_loss: 2730.9966 - val_accuracy: 0.0492\n",
      "Epoch 4/10\n",
      "6/6 [==============================] - 3s 461ms/step - loss: -1062.7694 - accuracy: 0.8482 - val_loss: 10892.8545 - val_accuracy: 0.0492\n",
      "Epoch 5/10\n",
      "6/6 [==============================] - 3s 431ms/step - loss: -3778.9800 - accuracy: 0.8482 - val_loss: 34361.9609 - val_accuracy: 0.0492\n",
      "Epoch 6/10\n",
      "6/6 [==============================] - 3s 441ms/step - loss: -11557.1650 - accuracy: 0.8482 - val_loss: 92995.4453 - val_accuracy: 0.0492\n",
      "Epoch 7/10\n",
      "6/6 [==============================] - 3s 496ms/step - loss: -28101.1680 - accuracy: 0.8482 - val_loss: 220193.3906 - val_accuracy: 0.0492\n",
      "Epoch 8/10\n",
      "6/6 [==============================] - 3s 469ms/step - loss: -57555.2266 - accuracy: 0.8482 - val_loss: 478521.9062 - val_accuracy: 0.0492\n",
      "Epoch 9/10\n",
      "6/6 [==============================] - 3s 406ms/step - loss: -129541.2109 - accuracy: 0.8482 - val_loss: 948644.9375 - val_accuracy: 0.0492\n",
      "Epoch 10/10\n",
      "6/6 [==============================] - 3s 488ms/step - loss: -243160.8750 - accuracy: 0.8482 - val_loss: 1809220.2500 - val_accuracy: 0.0492\n"
     ]
    },
    {
     "name": "stderr",
     "output_type": "stream",
     "text": [
      "C:\\Users\\DELL\\anaconda3\\lib\\site-packages\\keras\\src\\engine\\training.py:3103: UserWarning: You are saving your model as an HDF5 file via `model.save()`. This file format is considered legacy. We recommend using instead the native Keras format, e.g. `model.save('my_model.keras')`.\n",
      "  saving_api.save_model(\n"
     ]
    }
   ],
   "source": [
    "import tensorflow as tf\n",
    "from tensorflow.keras import layers, models\n",
    "from tensorflow.keras.preprocessing.image import ImageDataGenerator\n",
    "from PIL import Image, ImageSequence\n",
    "import numpy as np\n",
    "\n",
    "# Set random seed for reproducibility\n",
    "tf.random.set_seed(42)\n",
    "\n",
    "# Define the model\n",
    "model = models.Sequential([\n",
    "    layers.Conv2D(32, (3, 3), activation='relu', input_shape=(64, 64, 3)),\n",
    "    layers.MaxPooling2D((2, 2)),\n",
    "    layers.Conv2D(64, (3, 3), activation='relu'),\n",
    "    layers.MaxPooling2D((2, 2)),\n",
    "    layers.Conv2D(128, (3, 3), activation='relu'),\n",
    "    layers.MaxPooling2D((2, 2)),\n",
    "    layers.Flatten(),\n",
    "    layers.Dense(128, activation='relu'),\n",
    "    layers.Dense(1, activation='sigmoid')  # Binary classification: spam or non-spam\n",
    "])\n",
    "\n",
    "# Compile the model\n",
    "model.compile(optimizer='adam',\n",
    "              loss='binary_crossentropy',\n",
    "              metrics=['accuracy'])\n",
    "\n",
    "# Data preprocessing using ImageDataGenerator\n",
    "train_datagen = ImageDataGenerator(rescale=1./255,\n",
    "                                   shear_range=0.2,\n",
    "                                   zoom_range=0.2,\n",
    "                                   horizontal_flip=True)\n",
    "\n",
    "test_datagen = ImageDataGenerator(rescale=1./255)\n",
    "\n",
    "# Updated preprocess_image function\n",
    "def preprocess_image(img_path):\n",
    "    img = Image.open(img_path)\n",
    "\n",
    "    if img.format == 'GIF':\n",
    "        frames = [np.array(frame.resize((64, 64), Image.ANTIALIAS)) for frame in ImageSequence.Iterator(img)]\n",
    "        img_array = np.stack(frames)\n",
    "    else:\n",
    "        img = img.convert('RGB')\n",
    "        img = img.resize((64, 64), Image.ANTIALIAS)\n",
    "        img_array = np.expand_dims(np.array(img), axis=0)\n",
    "\n",
    "    img_array = img_array / 255.0\n",
    "    return img_array\n",
    "\n",
    "train_generator = train_datagen.flow_from_directory(\n",
    "    'Dataset/Train',\n",
    "    target_size=(64, 64),\n",
    "    batch_size=32,\n",
    "    class_mode='binary'  # Binary labels for spam or non-spam\n",
    ")\n",
    "\n",
    "validation_generator = test_datagen.flow_from_directory(\n",
    "    'Dataset/Test',\n",
    "    target_size=(64, 64),\n",
    "    batch_size=32,\n",
    "    class_mode='binary'\n",
    ")\n",
    "\n",
    "# Train the model\n",
    "model.fit(train_generator, epochs=10, validation_data=validation_generator)\n",
    "\n",
    "# Save the model for future use\n",
    "model.save('image_spam_detection_model.h5')"
   ]
  },
  {
   "cell_type": "code",
   "execution_count": 1,
   "id": "e2c252b3",
   "metadata": {},
   "outputs": [
    {
     "name": "stdout",
     "output_type": "stream",
     "text": [
      "WARNING:tensorflow:From C:\\Users\\DELL\\anaconda3\\lib\\site-packages\\keras\\src\\losses.py:2976: The name tf.losses.sparse_softmax_cross_entropy is deprecated. Please use tf.compat.v1.losses.sparse_softmax_cross_entropy instead.\n",
      "\n",
      "WARNING:tensorflow:From C:\\Users\\DELL\\anaconda3\\lib\\site-packages\\keras\\src\\backend.py:1398: The name tf.executing_eagerly_outside_functions is deprecated. Please use tf.compat.v1.executing_eagerly_outside_functions instead.\n",
      "\n",
      "WARNING:tensorflow:From C:\\Users\\DELL\\anaconda3\\lib\\site-packages\\keras\\src\\layers\\pooling\\max_pooling2d.py:161: The name tf.nn.max_pool is deprecated. Please use tf.nn.max_pool2d instead.\n",
      "\n"
     ]
    },
    {
     "name": "stderr",
     "output_type": "stream",
     "text": [
      "C:\\Users\\DELL\\AppData\\Local\\Temp\\ipykernel_16200\\3056900746.py:17: DeprecationWarning: ANTIALIAS is deprecated and will be removed in Pillow 10 (2023-07-01). Use LANCZOS or Resampling.LANCZOS instead.\n",
      "  img = img.resize(target_size, Image.ANTIALIAS)\n"
     ]
    },
    {
     "name": "stdout",
     "output_type": "stream",
     "text": [
      "1/1 [==============================] - 1s 855ms/step\n",
      "The model predicts that the image is: Spam\n"
     ]
    }
   ],
   "source": [
    "from tensorflow.keras.models import load_model\n",
    "import numpy as np\n",
    "from PIL import Image\n",
    "\n",
    "# Load the trained model\n",
    "loaded_model = load_model('image_spam_detection_model.h5')\n",
    "# Define the target size\n",
    "target_size = (64, 64)\n",
    "\n",
    "# Load a sample image for testing\n",
    "sample_image_path = '30.jpg'  # Replace with the path to your sample image\n",
    "sample_img = Image.open(sample_image_path)\n",
    "\n",
    "# Preprocess the sample image\n",
    "def preprocess_image(img):\n",
    "    img = img.convert('RGB')\n",
    "    img = img.resize(target_size, Image.LANCZOS)\n",
    "    img_array = np.expand_dims(np.array(img), axis=0)\n",
    "    img_array = img_array / 255.0\n",
    "    return img_array\n",
    "\n",
    "# Make predictions\n",
    "preprocessed_sample = preprocess_image(sample_img)\n",
    "prediction = loaded_model.predict(preprocessed_sample)\n",
    "\n",
    "# Get the class label (spam or non-spam)\n",
    "predicted_class = int(round(prediction[0][0]))\n",
    "\n",
    "# Get the class name\n",
    "class_name = 'Spam' if predicted_class == 1 else 'Non-Spam'\n",
    "\n",
    "# Print the prediction result\n",
    "print(f'The model predicts that the image is: {class_name}')"
   ]
  },
  {
   "cell_type": "code",
   "execution_count": null,
   "id": "62a485fc",
   "metadata": {},
   "outputs": [],
   "source": []
  }
 ],
 "metadata": {
  "kernelspec": {
   "display_name": "Python 3 (ipykernel)",
   "language": "python",
   "name": "python3"
  },
  "language_info": {
   "codemirror_mode": {
    "name": "ipython",
    "version": 3
   },
   "file_extension": ".py",
   "mimetype": "text/x-python",
   "name": "python",
   "nbconvert_exporter": "python",
   "pygments_lexer": "ipython3",
   "version": "3.10.9"
  }
 },
 "nbformat": 4,
 "nbformat_minor": 5
}
